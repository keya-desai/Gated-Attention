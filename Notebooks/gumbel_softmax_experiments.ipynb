{
 "cells": [
  {
   "cell_type": "code",
   "execution_count": 1,
   "metadata": {},
   "outputs": [],
   "source": [
    "import torch\n",
    "import torch.nn.functional as F"
   ]
  },
  {
   "cell_type": "code",
   "execution_count": 2,
   "metadata": {},
   "outputs": [
    {
     "name": "stdout",
     "output_type": "stream",
     "text": [
      "tensor([[[0.0787],\n",
      "         [0.8890]],\n",
      "\n",
      "        [[0.9769],\n",
      "         [0.3231]],\n",
      "\n",
      "        [[0.6561],\n",
      "         [0.5748]]])\n"
     ]
    }
   ],
   "source": [
    "logits = torch.rand(3, 2, 1)\n",
    "print(logits)"
   ]
  },
  {
   "cell_type": "code",
   "execution_count": 3,
   "metadata": {},
   "outputs": [
    {
     "name": "stdout",
     "output_type": "stream",
     "text": [
      "tensor([[[0.9213, 0.0787],\n",
      "         [0.1110, 0.8890]],\n",
      "\n",
      "        [[0.0231, 0.9769],\n",
      "         [0.6769, 0.3231]],\n",
      "\n",
      "        [[0.3439, 0.6561],\n",
      "         [0.4252, 0.5748]]])\n"
     ]
    }
   ],
   "source": [
    "logits = logits.repeat(1,1,2)\n",
    "logits[:,:,0] = 1 - logits[:,:,0] \n",
    "print(logits)"
   ]
  },
  {
   "cell_type": "code",
   "execution_count": 4,
   "metadata": {},
   "outputs": [
    {
     "data": {
      "text/plain": [
       "tensor([[[7.2879e-01, 2.7121e-01],\n",
       "         [1.9373e-01, 8.0627e-01]],\n",
       "\n",
       "        [[7.0534e-04, 9.9929e-01],\n",
       "         [9.9942e-01, 5.7516e-04]],\n",
       "\n",
       "        [[9.1720e-01, 8.2796e-02],\n",
       "         [4.5273e-04, 9.9955e-01]]])"
      ]
     },
     "execution_count": 4,
     "metadata": {},
     "output_type": "execute_result"
    }
   ],
   "source": [
    "# Sample soft categorical using reparametrization trick:\n",
    "F.gumbel_softmax(logits, tau=0.5, hard=False)"
   ]
  },
  {
   "cell_type": "code",
   "execution_count": 5,
   "metadata": {},
   "outputs": [
    {
     "data": {
      "text/plain": [
       "tensor([[[0.3862, 0.6138],\n",
       "         [0.3024, 0.6976]],\n",
       "\n",
       "        [[0.3450, 0.6550],\n",
       "         [0.6728, 0.3272]],\n",
       "\n",
       "        [[0.4087, 0.5913],\n",
       "         [0.5312, 0.4688]]])"
      ]
     },
     "execution_count": 5,
     "metadata": {},
     "output_type": "execute_result"
    }
   ],
   "source": [
    "# Sample soft categorical using reparametrization trick:\n",
    "F.gumbel_softmax(logits, tau=1, hard=False)"
   ]
  },
  {
   "cell_type": "code",
   "execution_count": 6,
   "metadata": {
    "scrolled": false
   },
   "outputs": [
    {
     "data": {
      "text/plain": [
       "tensor([[[0., 1.],\n",
       "         [1., 0.]],\n",
       "\n",
       "        [[1., 0.],\n",
       "         [1., 0.]],\n",
       "\n",
       "        [[0., 1.],\n",
       "         [1., 0.]]])"
      ]
     },
     "execution_count": 6,
     "metadata": {},
     "output_type": "execute_result"
    }
   ],
   "source": [
    "# Sample hard categorical using \"Straight-through\" trick:\n",
    "F.gumbel_softmax(logits, tau=1, hard=True)"
   ]
  },
  {
   "cell_type": "code",
   "execution_count": 7,
   "metadata": {},
   "outputs": [
    {
     "data": {
      "text/plain": [
       "tensor([[[1., 0.],\n",
       "         [0., 1.]],\n",
       "\n",
       "        [[1., 0.],\n",
       "         [1., 0.]],\n",
       "\n",
       "        [[1., 0.],\n",
       "         [0., 1.]]])"
      ]
     },
     "execution_count": 7,
     "metadata": {},
     "output_type": "execute_result"
    }
   ],
   "source": [
    "# Sample hard categorical using \"Straight-through\" trick:\n",
    "F.gumbel_softmax(logits, tau=1, hard=True)"
   ]
  },
  {
   "cell_type": "code",
   "execution_count": null,
   "metadata": {},
   "outputs": [],
   "source": []
  }
 ],
 "metadata": {
  "kernelspec": {
   "display_name": "Python 3",
   "language": "python",
   "name": "python3"
  },
  "language_info": {
   "codemirror_mode": {
    "name": "ipython",
    "version": 3
   },
   "file_extension": ".py",
   "mimetype": "text/x-python",
   "name": "python",
   "nbconvert_exporter": "python",
   "pygments_lexer": "ipython3",
   "version": "3.7.6"
  }
 },
 "nbformat": 4,
 "nbformat_minor": 4
}
